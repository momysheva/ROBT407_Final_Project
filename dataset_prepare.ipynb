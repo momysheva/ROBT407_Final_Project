{
 "cells": [
  {
   "cell_type": "code",
   "execution_count": 7,
   "metadata": {},
   "outputs": [],
   "source": [
    "import pandas as pd\n",
    "import numpy as np\n",
    "import os\n",
    "import cv2\n",
    "from tqdm import tqdm\n",
    "from sklearn.model_selection import train_test_split\n",
    "\n"
   ]
  },
  {
   "cell_type": "code",
   "execution_count": 13,
   "metadata": {},
   "outputs": [],
   "source": [
    "data_path = 'dataset/DogsCats/'"
   ]
  },
  {
   "cell_type": "code",
   "execution_count": 15,
   "metadata": {},
   "outputs": [],
   "source": [
    "#get the names of all the files inside train data directory\n",
    "filenames = os.listdir(data_path + \"train\")\n",
    "\n",
    "#split the data into train and validation\n",
    "train_filenames, val_filenames = train_test_split(filenames, test_size=0.2)\n",
    "\n",
    "#make new directories inside train and validation for cats and dogs\n",
    "os.makedirs(data_path + \"train/0\")\n",
    "os.makedirs(data_path + \"train/1\")\n",
    "os.makedirs(data_path + \"val/0\")\n",
    "os.makedirs(data_path + \"val/1\")"
   ]
  },
  {
   "cell_type": "code",
   "execution_count": 16,
   "metadata": {},
   "outputs": [
    {
     "name": "stderr",
     "output_type": "stream",
     "text": [
      "100%|██████████| 20000/20000 [00:02<00:00, 7249.10it/s]\n"
     ]
    }
   ],
   "source": [
    "#transfer the cat and dog images into their respective directories\n",
    "for filename in tqdm(train_filenames):\n",
    "    if filename.split(\".\")[0] == \"cat\":\n",
    "        os.rename(data_path + \"train/\" + filename, data_path + \"train/0/\" + filename)\n",
    "    else:\n",
    "        os.rename(data_path + \"train/\" + filename, data_path + \"train/1/\" + filename)"
   ]
  },
  {
   "cell_type": "code",
   "execution_count": 17,
   "metadata": {},
   "outputs": [
    {
     "name": "stderr",
     "output_type": "stream",
     "text": [
      "100%|██████████| 5000/5000 [00:00<00:00, 5109.27it/s]\n"
     ]
    }
   ],
   "source": [
    "for filename in tqdm(val_filenames):\n",
    "    if filename.split(\".\")[0] == \"cat\":\n",
    "        os.rename(data_path + \"train/\" + filename, data_path + \"val/0/\" + filename)\n",
    "    else:\n",
    "        os.rename(data_path + \"train/\" + filename, data_path + \"val/1/\" + filename)"
   ]
  }
 ],
 "metadata": {
  "kernelspec": {
   "display_name": "CV701_env",
   "language": "python",
   "name": "python3"
  },
  "language_info": {
   "codemirror_mode": {
    "name": "ipython",
    "version": 3
   },
   "file_extension": ".py",
   "mimetype": "text/x-python",
   "name": "python",
   "nbconvert_exporter": "python",
   "pygments_lexer": "ipython3",
   "version": "3.8.17"
  },
  "orig_nbformat": 4
 },
 "nbformat": 4,
 "nbformat_minor": 2
}
